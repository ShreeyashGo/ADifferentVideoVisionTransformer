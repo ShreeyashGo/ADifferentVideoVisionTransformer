{
  "nbformat": 4,
  "nbformat_minor": 0,
  "metadata": {
    "colab": {
      "name": "VideoViTsModified.ipynb",
      "provenance": [],
      "collapsed_sections": [],
      "authorship_tag": "ABX9TyPPx17eK3PuXnfcPM6izUNI",
      "include_colab_link": true
    },
    "kernelspec": {
      "name": "python3",
      "display_name": "Python 3"
    },
    "language_info": {
      "name": "python"
    },
    "accelerator": "GPU"
  },
  "cells": [
    {
      "cell_type": "markdown",
      "metadata": {
        "id": "view-in-github",
        "colab_type": "text"
      },
      "source": [
        "<a href=\"https://colab.research.google.com/github/ShreeyashGo/ADifferentVideoVisionTransformer/blob/main/VideoViTsModified.ipynb\" target=\"_parent\"><img src=\"https://colab.research.google.com/assets/colab-badge.svg\" alt=\"Open In Colab\"/></a>"
      ]
    },
    {
      "cell_type": "markdown",
      "source": [
        "# Downloading the dataset\n",
        "I have implemented the modified Video Vision Transformer on two classes which I took from Kinetics dataset. I have used a pre implemented downloader and downloaded about 150 videos from each class. Downloading even those many videos takes a sufficiently large amount of time. Hence I have downloaded it into a drive which you may link into the colab notebook and skip this section.\n",
        "\n",
        "The Drive: [drive](https://drive.google.com/drive/u/0/folders/1-1BGLNghpKtHQ0AdfsNyWThzy2HnEpBq)"
      ],
      "metadata": {
        "id": "F1WQ-rTgGmwB"
      }
    },
    {
      "cell_type": "code",
      "execution_count": null,
      "metadata": {
        "id": "by179lq0mqqa"
      },
      "outputs": [],
      "source": [
        "!git clone 'https://github.com/Showmax/kinetics-downloader.git'\n",
        "%cd kinetics-downloader"
      ]
    },
    {
      "cell_type": "code",
      "source": [
        "!pip install --upgrade youtube-dl\n",
        "!pip install --upgrade ffmpeg"
      ],
      "metadata": {
        "id": "hEYkVFBna4PF"
      },
      "execution_count": null,
      "outputs": []
    },
    {
      "cell_type": "code",
      "source": [
        "!python list_classes.py"
      ],
      "metadata": {
        "id": "qxiB-QRnEFmQ"
      },
      "execution_count": null,
      "outputs": []
    },
    {
      "cell_type": "code",
      "source": [
        "import json \n",
        "import os\n",
        "\n",
        "\n",
        "number_of_vids_perclass = 161\n",
        "f = open('/content/kinetics-downloader/resources/kinetics_train.json')\n",
        "traindat = json.load(f)\n",
        "dicti = {}\n",
        "dunkCount = 0\n",
        "dribbleCount = 0\n",
        "for i in traindat:\n",
        "    if(traindat[i]['annotations']['label'] == 'dunking basketball') and dunkCount<number_of_vids_perclass:\n",
        "        dicti[i] = traindat[i]\n",
        "        dunkCount+=1\n",
        "    elif(traindat[i]['annotations']['label'] == 'dribbling basketball') and dribbleCount<number_of_vids_perclass:\n",
        "        dicti[i] = traindat[i]\n",
        "        dribbleCount+=1\n",
        "print(dunkCount, dribbleCount)\n",
        "json_train = json.dumps(dicti, indent = 4)\n",
        "\n",
        "with open(\"/content/kinetics-downloader/resources/kinetics_train.json\", \"w\") as outfile:\n",
        "    outfile.write(json_train)\n"
      ],
      "metadata": {
        "id": "EswwM_uq7DVW"
      },
      "execution_count": null,
      "outputs": []
    },
    {
      "cell_type": "code",
      "source": [
        "#the following code takes lots of time(almost 3 hrs)\n",
        "!python download.py --classes 'dribbling basketball' 'dunking basketball' --num-workers 20\n"
      ],
      "metadata": {
        "id": "MDRE4WDYE8A-"
      },
      "execution_count": null,
      "outputs": []
    },
    {
      "cell_type": "code",
      "source": [
        "print(len(os.listdir('/content/kinetics-downloader/dataset/train/dribbling_basketball')))\n",
        "print(len(os.listdir('/content/kinetics-downloader/dataset/train/dunking_basketball')))"
      ],
      "metadata": {
        "id": "0OFuIaTK4ofC"
      },
      "execution_count": null,
      "outputs": []
    },
    {
      "cell_type": "code",
      "source": [
        "f = open('/content/kinetics-downloader/resources/kinetics_train.json')\n",
        "traindat = json.load(f)\n",
        "dicti = {}\n",
        "dunkCount = 0\n",
        "dribbleCount = 0\n",
        "for i in traindat:\n",
        "    # print((i+'.mp4') in os.listdir('/content/kinetics-downloader/dataset/train/dribbling_basketball'))\n",
        "    # break\n",
        "    if(i+'.mp4' in os.listdir('/content/kinetics-downloader/dataset/train/dribbling_basketball')):\n",
        "        continue\n",
        "    elif(i[1:]+'.mp4' in os.listdir('/content/kinetics-downloader/dataset/train/dunking_basketball')):\n",
        "        continue\n",
        "    elif(i[1:]+'.mp4' not in os.listdir('/content/kinetics-downloader/dataset/train/dunking_basketball') and traindat[i]['annotations']['label'] == 'dunking basketball'):\n",
        "        dicti[i] = traindat[i]\n",
        "        dunkCount+=1\n",
        "    else:\n",
        "        dicti[i] = traindat[i]\n",
        "        dribbleCount+=1\n",
        "print(dunkCount, dribbleCount)\n",
        "json_train = json.dumps(dicti, indent = 4)\n",
        "\n",
        "with open(\"/content/kinetics-downloader/resources/kinetics_train.json\", \"w\") as outfile:\n",
        "    outfile.write(json_train)\n"
      ],
      "metadata": {
        "id": "VwULefCp-MYq"
      },
      "execution_count": null,
      "outputs": []
    },
    {
      "cell_type": "code",
      "source": [
        "!python videos_to_frames.py --classes 'dribbling basketball' 'dunking basketball' --num-workers 20"
      ],
      "metadata": {
        "id": "zJkVj12hwvnh"
      },
      "execution_count": null,
      "outputs": []
    },
    {
      "cell_type": "code",
      "source": [
        ""
      ],
      "metadata": {
        "id": "AmcLZFidEHxs"
      },
      "execution_count": null,
      "outputs": []
    },
    {
      "cell_type": "markdown",
      "source": [
        "#The Implementation\n",
        "\n",
        "\n"
      ],
      "metadata": {
        "id": "0_bxnl6radq7"
      }
    },
    {
      "cell_type": "code",
      "source": [
        "from google.colab import drive\n",
        "import os\n",
        "from PIL import Image\n",
        "import numpy as np\n",
        "import tensorflow as tf\n",
        "import keras\n",
        "from keras import layers\n"
      ],
      "metadata": {
        "id": "JDeHf5MharaR"
      },
      "execution_count": 1,
      "outputs": []
    },
    {
      "cell_type": "code",
      "source": [
        "drive.mount('/content/gdrive')\n",
        "#if you are using drive link, please add shortcut to the folder in \"MyDrive\" folder else you will have to change the path\n",
        "#if you are downloading it again, please change the path so as to avoid clashes in the further code\n",
        "from_path='/content/gdrive/MyDrive/KineticsBasketBall'\n"
      ],
      "metadata": {
        "id": "fPTiZzOgzA6R"
      },
      "execution_count": null,
      "outputs": []
    },
    {
      "cell_type": "code",
      "source": [
        "# we will find the length of each image in the entire dataset to get a common \n",
        "# if using the same data as per the drive, no need to run this cell again as I got the smallest size\n",
        "# if we are using any other data please uncomment the code\n",
        "\n",
        "\n",
        "# os.chdir(from_path)\n",
        "# for classes in os.listdir('./'):\n",
        "#     path2vids = f'./{classes}'\n",
        "#     mindim = []\n",
        "#     for videos in os.listdir(path2vids):\n",
        "#         minx = 1080\n",
        "#         miny = 1080\n",
        "        \n",
        "#         path2imgs = path2vids +f'/{videos}'\n",
        "#         for images in os.listdir(path2imgs):\n",
        "#             finpath = path2imgs+f'/{images}'\n",
        "#             with Image.open(finpath) as im:\n",
        "#                 if minx>=im.size[0]:\n",
        "#                     minx = im.size[0]\n",
        "#                 if miny>=im.size[1]:\n",
        "#                     miny = im.size[1]\n",
        "#         mindim.append([minx, miny])\n",
        "\n",
        "# mindim = np.array(mindim)\n",
        "# print(min(mindim[:,0]), min(mindim[:,1]))\n"
      ],
      "metadata": {
        "id": "eBzJiXTEwHgS"
      },
      "execution_count": 3,
      "outputs": []
    },
    {
      "cell_type": "code",
      "source": [
        "# the embedder layer which comprises of a FLatten layer and a few Dense layers which are then added with the positional embeddings\n",
        "\n",
        "class Embedder(layers.Layer):\n",
        "    def __init__(self, frame_num, embeddims):\n",
        "        super(Embedder, self).__init__()\n",
        "        self.framenum = frame_num\n",
        "        self.flat = layers.Flatten()\n",
        "        self.linear1 = layers.Dense(2048, activation='relu')\n",
        "        self.linear2 = layers.Dense(embeddims, activation = 'relu')\n",
        "        self.posdims = layers.Embedding(input_dim=numframes, output_dim = 1)\n",
        "    \n",
        "    def call(self, batch):\n",
        "        position = tf.range(start = 0, limit = self.framenum, delta = 1)\n",
        "        embedding = self.flat(batch)\n",
        "        embedding = self.linear1(embedding)\n",
        "        embedding = self.linear2(embedding)\n",
        "        posembeds = self.posdims(position)\n",
        "        embedding = layers.Add()([embedding, posembeds])\n",
        "        # print(posembeds.shape)\n",
        "        return embedding"
      ],
      "metadata": {
        "id": "YVN9nrDPSpZG"
      },
      "execution_count": 4,
      "outputs": []
    },
    {
      "cell_type": "code",
      "source": [
        "class TransformerBlock(tf.keras.layers.Layer):\n",
        "    def __init__(self, embed_dim, num_heads, ff_dim, dropout=0.1):\n",
        "        super(TransformerBlock, self).__init__()\n",
        "        # Transformer block multi-head Self Attention\n",
        "        self.multiheadSelf = layers.MultiHeadAttention(num_heads=num_heads, key_dim=embed_dim, dropout=0.1)\n",
        "        self.ffn = tf.keras.Sequential(\n",
        "            [layers.Dense(ff_dim, activation = 'sigmoid'), \n",
        "             layers.Dense(embed_dim, activation = 'sigmoid'),]\n",
        "        )\n",
        "        self.embedDIM = embed_dim\n",
        "        self.layernorm1 = layers.LayerNormalization(epsilon=1e-6)\n",
        "        self.layernorm2 = layers.LayerNormalization(epsilon=1e-6)\n",
        "        self.dropout1 = layers.Dropout(dropout)\n",
        "        self.dropout2 = layers.Dropout(dropout)\n",
        "\n",
        "    def call(self, inputs):\n",
        "        inputs = layers.Reshape(target_shape = (self.embedDIM, 1))(inputs)\n",
        "        x1 = self.layernorm1(inputs)\n",
        "        attention_op1 = self.multiheadSelf(x1, x1)\n",
        "        # print(attention_op1)\n",
        "        attention_op1 = self.dropout1(attention_op1)\n",
        "        spatioOP = layers.Add()([attention_op1, inputs]) \n",
        "   \n",
        "        x2 = self.layernorm1(spatioOP)\n",
        "        attention_op2 = self.multiheadSelf(x2, x2)\n",
        "        attention_op2 = self.dropout1(attention_op2)\n",
        "        tempoOP = layers.Add()([attention_op2, spatioOP])   \n",
        "     \n",
        "        ff_inp = layers.Flatten()(tempoOP)\n",
        "        ff_inp = self.layernorm2(ff_inp)\n",
        "        ff_op = self.ffn(ff_inp)\n",
        "        ff_op = self.dropout2(ff_op)\n",
        "        ff_op = layers.Add()([ff_inp, ff_op]) \n",
        "        return self.layernorm2(ff_op)\n",
        "    \n"
      ],
      "metadata": {
        "id": "3n2_nLYiDq4q"
      },
      "execution_count": 5,
      "outputs": []
    },
    {
      "cell_type": "code",
      "source": [
        "## so the a minimum size of 256, 256, 3 can be extracted for all the images\n",
        "## so we are arranging the frames in a single list and storing the list of size of frames per video\n",
        "\n",
        "finalclass = []\n",
        "framenum = []\n",
        "for classes in os.listdir('/content/gdrive/MyDrive/KineticsBasketBall/'):\n",
        "    final = []\n",
        "    midframe = []\n",
        "    if '.npy' in classes:\n",
        "        continue \n",
        "    for video in os.listdir(f'/content/gdrive/MyDrive/KineticsBasketBall/{classes}'):\n",
        "        vid = []\n",
        "        framed = []\n",
        "        dir = np.asarray(os.listdir(f'/content/gdrive/MyDrive/KineticsBasketBall/{classes}/{video}'))\n",
        "        midframe.append(len(dir))\n",
        "        dirkeys = np.array([i[5:-4] for i in dir])\n",
        "        dirkeys = dirkeys.astype(int)\n",
        "        dir_fin = np.lexsort((dir, dirkeys))\n",
        "        for i in dir_fin:\n",
        "            vid.append(f'/content/gdrive/MyDrive/KineticsBasketBall/{classes}/{video}/{dir[i]}')\n",
        "        final.append(vid)\n",
        "    finalclass.append(final)\n",
        "    framenum.append(midframe)"
      ],
      "metadata": {
        "id": "7eiZTQC68pYZ"
      },
      "execution_count": 6,
      "outputs": []
    },
    {
      "cell_type": "code",
      "source": [
        "# forming batches to be fed into the transformer\n",
        "embedDim = 512\n",
        "numframes = 32\n",
        "\n",
        "\n",
        "batcheddata = []\n",
        "for classnum in range(len(finalclass)):\n",
        "    classbatch = []\n",
        "    for vidnum in range(len(finalclass[classnum])):\n",
        "        batchnum = 0\n",
        "        while((batchnum+numframes)<framenum[classnum][vidnum]):\n",
        "            classbatch.append(finalclass[classnum][vidnum][batchnum:batchnum+numframes])\n",
        "            batchnum+=numframes\n",
        "    batcheddata.append(classbatch)\n",
        "\n",
        "np.random.shuffle(batcheddata[0])\n",
        "np.random.shuffle(batcheddata[1])"
      ],
      "metadata": {
        "id": "REQGmbj5Lc02"
      },
      "execution_count": 7,
      "outputs": []
    },
    {
      "cell_type": "code",
      "source": [
        "inp = layers.Input(shape = (128, 128, 3), batch_size = numframes)\n",
        "embeddings = Embedder(numframes, embedDim)(inp)\n",
        "transformed = TransformerBlock(embedDim, num_heads = 3, ff_dim = 128)(embeddings)\n",
        "\n",
        "transformed = tf.reshape(transformed, (1, -1))\n",
        "mlpLevel1 = layers.Dense(64, activation = tf.keras.activations.gelu)(transformed)\n",
        "mlpLevel2 = layers.Dense(32, activation = tf.keras.activations.gelu)(mlpLevel1)\n",
        "op = layers.Dense(1, activation = 'sigmoid')(mlpLevel2)\n",
        "\n",
        "model = keras.models.Model(inp, op)"
      ],
      "metadata": {
        "id": "vbjsDC8wyPGx"
      },
      "execution_count": 8,
      "outputs": []
    },
    {
      "cell_type": "code",
      "source": [
        "model.summary()\n",
        "\n",
        "# keras.utils.vis_utils.plot_model(model, to_file= 'model_plot.png', show_shapes = True, show_layer_names = True)"
      ],
      "metadata": {
        "id": "78CEQh8NI_J_"
      },
      "execution_count": null,
      "outputs": []
    },
    {
      "cell_type": "code",
      "source": [
        "# training takes a really long time as the size of the image is considerably large\n",
        "num_epochs = 1\n",
        "lenDunking = len(batcheddata[0])\n",
        "lenDribbling = len(batcheddata[1])\n",
        "optimizer = tf.keras.optimizers.Adam(learning_rate = 0.001)\n",
        "\n",
        "\n",
        "for i in range(num_epochs):\n",
        "    print(f'Epoch {i+1}')\n",
        "    print('----------------------')\n",
        "    label = 0\n",
        "    dunkingPtr = 0    \n",
        "    dribblingPtr = 0\n",
        "    losses = [] \n",
        "    while dunkingPtr<lenDunking or dribblingPtr<lenDribbling:\n",
        "        if label == 0:\n",
        "            if dunkingPtr<lenDunking:\n",
        "                batch = batcheddata[label][dunkingPtr]\n",
        "                dunkingPtr+=1\n",
        "            else:\n",
        "                batch = batcheddata[1][dribblingPtr]\n",
        "                dribblingPtr+=1\n",
        "        else:\n",
        "            if dribblingPtr<lenDribbling:\n",
        "                batch = batcheddata[label][dribblingPtr]\n",
        "                dribblingPtr+=1\n",
        "            else:\n",
        "                batch = batcheddata[0][dunkingPtr]\n",
        "                dunkingPtr+=1\n",
        "\n",
        "        imbatch = []\n",
        "        for image in batch:\n",
        "            im = Image.open(image)\n",
        "            im = im.resize((128, 128))\n",
        "            imbatch.append(np.array(im))\n",
        "        imbatch = np.array(imbatch)\n",
        " \n",
        "        with tf.GradientTape() as tape:\n",
        "            y_pred = model(imbatch)\n",
        "            # print(y_pred)\n",
        "            loss = -(label * tf.math.log(y_pred) + (1-label) * tf.math.log((1-y_pred)))\n",
        "        # print(loss)\n",
        "\n",
        "        trainable_vars_tranformer = model.trainable_variables\n",
        "        gradients_transformer = tape.gradient(loss, trainable_vars_tranformer)\n",
        "        # print(gradients_transformer)\n",
        "\n",
        "        optimizer.apply_gradients(grads_and_vars =zip(gradients_transformer, trainable_vars_tranformer))\n",
        "        losses.append(loss)\n",
        "        label = label^1\n",
        "\n",
        "        if (dunkingPtr + dribblingPtr) % 20 == 0:\n",
        "            print(f'the loss on the {dunkingPtr + dribblingPtr}/{lenDunking + lenDribbling} step is: {loss}')\n",
        "            if (dunkingPtr + dribblingPtr)%100 == 0:\n",
        "                np.save(f'{from_path}/weightschkpt', np.array(model.get_weights(), dtype=object))\n",
        "                print(f\"the checkpoint pointers are: DribblingPtr: {dribblingPtr}, DunkingPtr: {dunkingPtr}\")\n",
        "\n",
        "        \n",
        "        if (np.mean(losses[-10:])<=0.01):\n",
        "            print('changing the lr')\n",
        "            optimizer.learning_rate = optimizer.learning_rate//2\n",
        "\n",
        "    \n",
        "    print(f'the loss at the end of epoch{i+1}: {np.mean(losses)}')\n",
        "    print('----------------------')\n",
        "    "
      ],
      "metadata": {
        "id": "YuwFoOG4HOVp"
      },
      "execution_count": null,
      "outputs": []
    },
    {
      "cell_type": "code",
      "source": [
        "os.chdir(from_path)"
      ],
      "metadata": {
        "id": "vSLC22ddIvr7"
      },
      "execution_count": 10,
      "outputs": []
    },
    {
      "cell_type": "code",
      "source": [
        "np.save(f'{from_path}/weights2', np.array(model.get_weights(), dtype=object))"
      ],
      "metadata": {
        "id": "xThdLNgwI3KW"
      },
      "execution_count": 18,
      "outputs": []
    },
    {
      "cell_type": "code",
      "source": [
        "weights = np.load('/content/gdrive/MyDrive/KineticsBasketBall/weights1.npy', allow_pickle=True)\n",
        "model.set_weights(weights)"
      ],
      "metadata": {
        "id": "EVRORuLDUdsl"
      },
      "execution_count": 11,
      "outputs": []
    },
    {
      "cell_type": "code",
      "source": [
        "#taking random videos from the train set to check the accuracy\n",
        "samples = 30\n",
        "test = np.random.choice(len(batcheddata[0]),samples)\n",
        "\n",
        "truPos = 0\n",
        "falsePos = 0\n",
        "truNegs = 0\n",
        "falseNegs = 0\n",
        "\n",
        "\n",
        "for i in test:\n",
        "    imbatch = []\n",
        "    batch = batcheddata[0][i]\n",
        "    for image in batch:\n",
        "        im = Image.open(image)\n",
        "        im = im.resize((128, 128))\n",
        "        imbatch.append(np.array(im))\n",
        "    imbatch = np.array(imbatch)\n",
        "    if model.predict(imbatch)<=0.5:\n",
        "        truNegs+=1\n",
        "    else:\n",
        "        falseNegs+=1\n",
        "\n",
        "test = np.random.choice(len(batcheddata[1]), samples)\n",
        "\n",
        "for i in test:\n",
        "    imbatch = []\n",
        "    batch = batcheddata[1][i]\n",
        "    for image in batch:\n",
        "        im = Image.open(image)\n",
        "        im = im.resize((128, 128))\n",
        "        imbatch.append(np.array(im))\n",
        "    imbatch = np.array(imbatch)\n",
        "    if model.predict(imbatch)>=0.5:\n",
        "        truPos+=1\n",
        "    else:\n",
        "        falsePos+=1"
      ],
      "metadata": {
        "id": "_R8VmIevm9Cz"
      },
      "execution_count": 20,
      "outputs": []
    },
    {
      "cell_type": "code",
      "source": [
        "# trained on fewer epochs so the accuracy is not that great\n",
        "print(f'acc = {(truPos+truNegs)/(truPos+truNegs+falsePos+falseNegs)}')\n",
        "print(f'f1Score = {(2*truPos)/(2*truPos+falsePos+falseNegs)}')"
      ],
      "metadata": {
        "id": "4er5O7ihpYuh",
        "colab": {
          "base_uri": "https://localhost:8080/"
        },
        "outputId": "388ef8f2-9642-4818-a1be-cebd295506da"
      },
      "execution_count": 21,
      "outputs": [
        {
          "output_type": "stream",
          "name": "stdout",
          "text": [
            "acc = 0.7166666666666667\n",
            "f1Score = 0.6666666666666666\n"
          ]
        }
      ]
    },
    {
      "cell_type": "code",
      "source": [
        ""
      ],
      "metadata": {
        "id": "zgyIy5sWNCGm"
      },
      "execution_count": null,
      "outputs": []
    }
  ]
}